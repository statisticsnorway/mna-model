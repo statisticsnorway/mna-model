{
 "cells": [
  {
   "cell_type": "markdown",
   "metadata": {},
   "source": [
    "# Example of use of MNAModel\n",
    "To import MNAModel you need the following packages installed:\n",
    "* os\n",
    "* NumPy\n",
    "* NetworkX\n",
    "* Pyvis\n",
    "* SciPy\n",
    "* Pandas\n",
    "* SymEngine\n",
    "* Numba"
   ]
  },
  {
   "cell_type": "code",
   "execution_count": 1,
   "metadata": {},
   "outputs": [],
   "source": [
    "import pandas as pd\n",
    "import mnamodel as nm\n",
    "from IPython.display import display, HTML"
   ]
  },
  {
   "cell_type": "markdown",
   "metadata": {},
   "source": [
    "Defining lists of equations and endogenous variables as lists. These are what together *define* a particular MNAModel class instance."
   ]
  },
  {
   "cell_type": "code",
   "execution_count": 2,
   "metadata": {},
   "outputs": [],
   "source": [
    "eqns = ['x+y = A', '0.5*(x-y-z) = B', 'z-z(-1)= C']\n",
    "endo_vars = ['x', 'y', 'z']"
   ]
  },
  {
   "cell_type": "markdown",
   "metadata": {},
   "source": [
    "Initiate instance of MNAModel class called *model*."
   ]
  },
  {
   "cell_type": "code",
   "execution_count": 3,
   "metadata": {},
   "outputs": [
    {
     "name": "stdout",
     "output_type": "stream",
     "text": [
      "INITIALIZING MODEL...\n",
      "* Importing equations\n",
      "* Importing endogenous variables\n",
      "ANALYZING MODEL...\n",
      "* Analyzing equation strings\n",
      "* Generating bipartite graph connecting equations and endogenous variables\n",
      "* Finding maximum bipartite match (MBM) (i.e. associating every equation with exactly one endogenus variable)\n",
      "* Generating directed graph (DiGraph) connecting endogenous variables using bipartite graph and MBM\n",
      "* Finding condensation of DiGraph (i.e. finding minimum simulataneous equation blocks)\n",
      "* Generating simulation code (i.e. block-wise symbolic objective function, symbolic Jacobian matrix and lists of endogenous and exogenous variables)\n",
      "[('z',), ('z(-1)', 'c'), ('z-z(-1)= c',)]\n",
      "[('y', 'x'), ('a', 'b', 'z'), ('0.5*(x-y-z) = b', 'x+y = a')]\n"
     ]
    }
   ],
   "source": [
    "model = nm.MNAModel(eqns, endo_vars)\n",
    "print(*model.blocks, sep='\\n')"
   ]
  },
  {
   "cell_type": "markdown",
   "metadata": {},
   "source": [
    "Make Pandas dataframe. Data contains exogenous variables and initial values for endogenous variables."
   ]
  },
  {
   "cell_type": "code",
   "execution_count": 4,
   "metadata": {},
   "outputs": [
    {
     "name": "stdout",
     "output_type": "stream",
     "text": [
      "          x    y    z    a    b    c\n",
      "2019Q1  2.0  2.0  1.0  1.0  1.0  3.0\n",
      "2019Q2  4.0  1.0  3.0  2.0  2.0  2.0\n",
      "2020Q3  1.0  2.0  4.0  1.0  4.0  3.0\n",
      "2020Q4  2.0  3.0  1.0  4.0  4.0  4.0\n"
     ]
    }
   ],
   "source": [
    "input_data = pd.DataFrame({'x': [2,4,1,2], 'y': [2,1,2,3], 'z': [1,3,4,1], 'a': [1,2,1,4], 'b': [1,2,4,4], 'c': [3,2,3,4]}, index=['2019Q1', '2019Q2', '2020Q3', '2020Q4'], dtype=float)\n",
    "print(input_data.head())"
   ]
  },
  {
   "cell_type": "markdown",
   "metadata": {},
   "source": [
    "Run model instance with respect to data."
   ]
  },
  {
   "cell_type": "code",
   "execution_count": 5,
   "metadata": {},
   "outputs": [
    {
     "name": "stdout",
     "output_type": "stream",
     "text": [
      "SOLVING MODEL...\n",
      "First period: 2019Q2, last period: 2020Q4\n",
      "Solving 2019Q2 2020Q3 2020Q4 \n",
      "Finished\n",
      "           x    y     z    a    b    c\n",
      "2019Q1   2.0  2.0   1.0  1.0  1.0  3.0\n",
      "2019Q2   4.5 -2.5   3.0  2.0  2.0  2.0\n",
      "2020Q3   7.5 -6.5   6.0  1.0  4.0  3.0\n",
      "2020Q4  11.0 -7.0  10.0  4.0  4.0  4.0\n"
     ]
    }
   ],
   "source": [
    "solution = model.solve_model(input_data)\n",
    "print(solution)"
   ]
  },
  {
   "cell_type": "markdown",
   "metadata": {},
   "source": [
    "Make graph plot of some variable showing what block it's in what blocks is it's ancestors and decendants."
   ]
  },
  {
   "cell_type": "code",
   "execution_count": 6,
   "metadata": {},
   "outputs": [
    {
     "name": "stdout",
     "output_type": "stream",
     "text": [
      "Graph of block containing x with 2 generations of ancestors and 2 generations of decendants: DiGraph with 6 nodes and 5 edges\n"
     ]
    }
   ],
   "source": [
    "model.draw_blockwise_graph('x', 2, 2, False)"
   ]
  }
 ],
 "metadata": {
  "interpreter": {
   "hash": "f34342f3f35923c5a9d760040d36bd541ad2fb32df343693429c57c81d770bbc"
  },
  "kernelspec": {
   "display_name": "Python 3.8.10 64-bit (windows store)",
   "language": "python",
   "name": "python3"
  },
  "language_info": {
   "codemirror_mode": {
    "name": "ipython",
    "version": 3
   },
   "file_extension": ".py",
   "mimetype": "text/x-python",
   "name": "python",
   "nbconvert_exporter": "python",
   "pygments_lexer": "ipython3",
   "version": "3.8.10"
  },
  "orig_nbformat": 4
 },
 "nbformat": 4,
 "nbformat_minor": 2
}
